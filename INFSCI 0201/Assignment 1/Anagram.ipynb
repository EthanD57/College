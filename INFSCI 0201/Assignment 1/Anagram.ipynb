{
 "cells": [
  {
   "cell_type": "code",
   "execution_count": 29,
   "metadata": {},
   "outputs": [],
   "source": [
    "words = open('words.txt')\n",
    "\n",
    "dictionary = [word.lower() for word in words]  \n",
    "\n",
    "user_word = input('Enter a word: ').lower()\n",
    "\n",
    "anagram = True\n",
    "for word in dictionary:\n",
    "    for letter in user_word:\n",
    "        if letter not in word:\n",
    "            anagram = False\n",
    "            break\n",
    "\n",
    "\n"
   ]
  },
  {
   "cell_type": "code",
   "execution_count": null,
   "metadata": {},
   "outputs": [],
   "source": []
  }
 ],
 "metadata": {
  "kernelspec": {
   "display_name": "Python 3",
   "language": "python",
   "name": "python3"
  },
  "language_info": {
   "codemirror_mode": {
    "name": "ipython",
    "version": 3
   },
   "file_extension": ".py",
   "mimetype": "text/x-python",
   "name": "python",
   "nbconvert_exporter": "python",
   "pygments_lexer": "ipython3",
   "version": "3.11.6"
  }
 },
 "nbformat": 4,
 "nbformat_minor": 2
}
