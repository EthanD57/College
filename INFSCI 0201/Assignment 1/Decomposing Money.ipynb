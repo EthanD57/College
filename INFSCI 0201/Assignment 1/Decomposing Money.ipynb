{
 "cells": [
  {
   "cell_type": "code",
   "execution_count": 26,
   "metadata": {},
   "outputs": [],
   "source": [
    "###Here we are asking the user to enter a number and checking to see if they did.\n",
    "\n",
    "while True:                     \n",
    "    userInput = input(\"Enter a number between 1 and 9999: \")      ##Store the user input\n",
    "    \n",
    "    ##Check to see if the input is a number\n",
    "    if not userInput.isdigit():\n",
    "        print(\"Invalid Input! \\n\")           ##If it's not a number, we tell the user and ask them to try again\n",
    "        continue \n",
    "    \n",
    "    ##Now that we know it's a number, we convert the input into an integer and check if it's within the range 1 to 9999\n",
    "    \n",
    "    number = int(userInput)            ##Convert to an integer\n",
    "    if number < 1 or number > 9999:    ##Check if within the range 1 to 9999    \n",
    "        print(\"Invalid Input! \\n\")   ##If it's not, we tell the user and ask them to try again \n",
    "        continue                       ##Starts over in the loop    \n",
    "    break\n",
    "\n"
   ]
  },
  {
   "cell_type": "code",
   "execution_count": 27,
   "metadata": {},
   "outputs": [
    {
     "name": "stdout",
     "output_type": "stream",
     "text": [
      "1 grand\n",
      "2 Benjamins\n",
      "3 sawbucks\n",
      "4 bucks\n"
     ]
    }
   ],
   "source": [
    "##Finally, we convert the inputted money amount into the different denominations\n",
    "\n",
    "temporaryNumber = number    ##This variable will store the number temporarily\n",
    "allDigits = []              ##This list will store the digits of the number\n",
    "\n",
    "while number >= 1:                  ##This loop will run as long as the number is greater than or equal to 1\n",
    "    allDigits.append(number%10)     ##The loop grabs the last digit of the number, stores it, and then divides the user input by 10\n",
    "    number//=10\n",
    "\n",
    "for x in range(len(allDigits)-1, -1, -1):           ##This loop iterates through the list backwards\n",
    "    if x == 3:                                      ##These statments check the current index and determine which denomination to print\n",
    "        if allDigits[x] > 1:                        ##Finally, we just need to check if we can write the word ploural or not\n",
    "            print(allDigits[x], \"grands\")\n",
    "        else:\n",
    "            print(allDigits[x], \"grand\")\n",
    "    elif x == 2:\n",
    "        if allDigits[x] > 1:\n",
    "            print(allDigits[x], \"Benjamins\")\n",
    "        else:\n",
    "            print(allDigits[x], \"Benjamin\")\n",
    "    elif x == 1:\n",
    "        if allDigits[x] > 1:\n",
    "            print(allDigits[x], \"sawbucks\")\n",
    "        else:\n",
    "            print(allDigits[x], \"sawbuck\")\n",
    "    else:\n",
    "        if allDigits[x] > 1:\n",
    "            print(allDigits[x], \"bucks\")\n",
    "        else:\n",
    "            print(allDigits[x], \"buck\")\n",
    "    \n"
   ]
  }
 ],
 "metadata": {
  "kernelspec": {
   "display_name": "Python 3",
   "language": "python",
   "name": "python3"
  },
  "language_info": {
   "codemirror_mode": {
    "name": "ipython",
    "version": 3
   },
   "file_extension": ".py",
   "mimetype": "text/x-python",
   "name": "python",
   "nbconvert_exporter": "python",
   "pygments_lexer": "ipython3",
   "version": "3.11.5"
  },
  "orig_nbformat": 4
 },
 "nbformat": 4,
 "nbformat_minor": 2
}
