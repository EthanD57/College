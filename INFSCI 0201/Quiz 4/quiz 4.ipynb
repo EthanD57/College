{
 "cells": [
  {
   "cell_type": "code",
   "execution_count": 57,
   "metadata": {},
   "outputs": [],
   "source": [
    "##Part 1\n",
    "\n",
    "userInput = input(\"Enter the Last 5 Temperatures in Fahrenheit and Press Enter: \")\n",
    "TempList = userInput.split(sep=\" \")\n"
   ]
  },
  {
   "cell_type": "code",
   "execution_count": 58,
   "metadata": {},
   "outputs": [],
   "source": [
    "#Part 2\n",
    "TempList = list(map(lambda x: (float(x)), TempList))\n"
   ]
  },
  {
   "cell_type": "code",
   "execution_count": 59,
   "metadata": {},
   "outputs": [],
   "source": [
    "##Part 3\n",
    "TempList = list(map(lambda x: (x - 2), TempList))\n"
   ]
  },
  {
   "cell_type": "code",
   "execution_count": 60,
   "metadata": {},
   "outputs": [],
   "source": [
    "##Part 4\n",
    "TempList2 = TempList.copy()\n",
    "\n",
    "def fahrenheit_to_celsius_with_Lambda(TempList):\n",
    "    return list(map(lambda x: ((x-32) * (5/9)), TempList))\n",
    "\n",
    "TempList = fahrenheit_to_celsius_with_Lambda(TempList)\n",
    "\n",
    "def fahrenheit_to_celsius_without_Lambda(TempList):\n",
    "    def fahrenheit_to_celsius(x):\n",
    "        return ((x-32) * (5/9))\n",
    "    return list(map(fahrenheit_to_celsius, TempList))\n",
    "\n",
    "TempList2 = fahrenheit_to_celsius_without_Lambda(TempList2)\n"
   ]
  },
  {
   "cell_type": "code",
   "execution_count": 61,
   "metadata": {},
   "outputs": [],
   "source": [
    "##Part 5\n",
    "TempList = list(filter(lambda x: (x > 0), TempList))\n",
    "\n",
    "TempList2 = list(filter(lambda x: (x > 0), TempList2))\n"
   ]
  },
  {
   "cell_type": "code",
   "execution_count": 63,
   "metadata": {},
   "outputs": [
    {
     "name": "stdout",
     "output_type": "stream",
     "text": [
      "List using lambda function:\n",
      "7.777777777777779\n",
      "5.555555555555555\n",
      "10.555555555555555\n",
      "23.88888888888889\n",
      "\n",
      "\n",
      "List using lambda function:\n",
      "7.777777777777779\n",
      "5.555555555555555\n",
      "10.555555555555555\n",
      "23.88888888888889\n"
     ]
    }
   ],
   "source": [
    "##Part 6\n",
    "if len(TempList) > 0:\n",
    "    print(\"List using lambda function:\")\n",
    "    for all in TempList:\n",
    "        print(all)\n",
    "    print(\"\\n\")\n",
    "else:\n",
    "    print(\"No values left after filtering.\")\n",
    "\n",
    "if len(TempList2) > 0:\n",
    "    print(\"List using lambda function:\")\n",
    "    for all in TempList2:\n",
    "        print(all)\n",
    "else:\n",
    "    print(\"No values left after filtering.\")\n",
    "\n"
   ]
  }
 ],
 "metadata": {
  "kernelspec": {
   "display_name": "Python 3",
   "language": "python",
   "name": "python3"
  },
  "language_info": {
   "codemirror_mode": {
    "name": "ipython",
    "version": 3
   },
   "file_extension": ".py",
   "mimetype": "text/x-python",
   "name": "python",
   "nbconvert_exporter": "python",
   "pygments_lexer": "ipython3",
   "version": "3.11.6"
  }
 },
 "nbformat": 4,
 "nbformat_minor": 2
}
