{
 "cells": [
  {
   "cell_type": "markdown",
   "metadata": {},
   "source": [
    "<h1> Arrests </h1>"
   ]
  },
  {
   "cell_type": "code",
   "execution_count": 6,
   "metadata": {},
   "outputs": [],
   "source": [
    "import pandas as pd\n",
    "\n",
    "# Reads the data\n",
    "\n",
    "arrests = pd.read_csv(\"Arrest.csv\",sep=\",\")"
   ]
  },
  {
   "cell_type": "code",
   "execution_count": 7,
   "metadata": {},
   "outputs": [],
   "source": [
    "# Adds the data to a dictionary \n",
    "\n",
    "arrestLocDict = {}\n",
    "arrestLocation = arrests[['INCIDENTNEIGHBORHOOD']]\n",
    "\n",
    "for each in arrestLocation['INCIDENTNEIGHBORHOOD']:\n",
    "    if each in arrestLocDict:\n",
    "        arrestLocDict[each] += 1\n",
    "    else:\n",
    "        arrestLocDict[each] = 1"
   ]
  },
  {
   "cell_type": "code",
   "execution_count": 8,
   "metadata": {},
   "outputs": [
    {
     "data": {
      "text/html": [
       "<div>\n",
       "<style scoped>\n",
       "    .dataframe tbody tr th:only-of-type {\n",
       "        vertical-align: middle;\n",
       "    }\n",
       "\n",
       "    .dataframe tbody tr th {\n",
       "        vertical-align: top;\n",
       "    }\n",
       "\n",
       "    .dataframe thead th {\n",
       "        text-align: right;\n",
       "    }\n",
       "</style>\n",
       "<table border=\"1\" class=\"dataframe\">\n",
       "  <thead>\n",
       "    <tr style=\"text-align: right;\">\n",
       "      <th></th>\n",
       "      <th>Locations</th>\n",
       "      <th>Numbers</th>\n",
       "    </tr>\n",
       "  </thead>\n",
       "  <tbody>\n",
       "    <tr>\n",
       "      <th>87</th>\n",
       "      <td>Central Business District</td>\n",
       "      <td>3570</td>\n",
       "    </tr>\n",
       "    <tr>\n",
       "      <th>13</th>\n",
       "      <td>South Side Flats</td>\n",
       "      <td>3053</td>\n",
       "    </tr>\n",
       "    <tr>\n",
       "      <th>11</th>\n",
       "      <td>Carrick</td>\n",
       "      <td>2102</td>\n",
       "    </tr>\n",
       "    <tr>\n",
       "      <th>3</th>\n",
       "      <td>East Allegheny</td>\n",
       "      <td>1893</td>\n",
       "    </tr>\n",
       "    <tr>\n",
       "      <th>45</th>\n",
       "      <td>Homewood South</td>\n",
       "      <td>1863</td>\n",
       "    </tr>\n",
       "  </tbody>\n",
       "</table>\n",
       "</div>"
      ],
      "text/plain": [
       "                    Locations  Numbers\n",
       "87  Central Business District     3570\n",
       "13           South Side Flats     3053\n",
       "11                    Carrick     2102\n",
       "3              East Allegheny     1893\n",
       "45             Homewood South     1863"
      ]
     },
     "execution_count": 8,
     "metadata": {},
     "output_type": "execute_result"
    }
   ],
   "source": [
    "# Changes the dictionary to lists\n",
    "\n",
    "numbers = list(arrestLocDict.values())\n",
    "locations = list(arrestLocDict.keys())\n",
    "\n",
    "# Changes the lists into a dataframe\n",
    "\n",
    "dframe = pd.DataFrame(list(zip(locations, numbers)), columns=[\"Locations\",\"Numbers\"])\n",
    "sortedDF = dframe.sort_values(by=['Numbers'],ascending=False)\n",
    "\n",
    "sortedDF = sortedDF.dropna()\n",
    "\n",
    "sortedDF.head()"
   ]
  },
  {
   "cell_type": "code",
   "execution_count": 9,
   "metadata": {},
   "outputs": [],
   "source": [
    "# Converts the dataframe into a csv file to be read by our formula notebook\n",
    "\n",
    "sortedDF.to_csv('sortedArrestData.csv', index=False, sep=\",\")"
   ]
  },
  {
   "cell_type": "markdown",
   "metadata": {},
   "source": [
    "# Conclusion\n",
    "\n",
    "In conclusion, we see that the Central Business District has the most number of arrests. This arrest data will be inputted into our final formula in order to find the best neighborhood to do drugs."
   ]
  }
 ],
 "metadata": {
  "kernelspec": {
   "display_name": "Python 3.11.0 64-bit",
   "language": "python",
   "name": "python3"
  },
  "language_info": {
   "codemirror_mode": {
    "name": "ipython",
    "version": 3
   },
   "file_extension": ".py",
   "mimetype": "text/x-python",
   "name": "python",
   "nbconvert_exporter": "python",
   "pygments_lexer": "ipython3",
   "version": "3.11.0"
  },
  "orig_nbformat": 4,
  "vscode": {
   "interpreter": {
    "hash": "aee8b7b246df8f9039afb4144a1f6fd8d2ca17a180786b69acc140d282b71a49"
   }
  }
 },
 "nbformat": 4,
 "nbformat_minor": 2
}
