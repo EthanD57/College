{
 "cells": [
  {
   "cell_type": "markdown",
   "metadata": {},
   "source": [
    "<h1>Drug Overdoses</h1>"
   ]
  },
  {
   "cell_type": "code",
   "execution_count": 2,
   "metadata": {},
   "outputs": [],
   "source": [
    "import pandas as pd\n",
    "\n",
    "## Read in the data from the CSV file\n",
    "drugs = pd.read_csv(\"Drugs.csv\", sep=\",\")\n",
    "\n",
    "##Make a seperate dataframe that only includes location and chrime data\n",
    "death = drugs[[\"OFFENSES\", \"INCIDENTNEIGHBORHOOD\"]]\n",
    "\n",
    "totals = {}\n",
    "\n",
    "##Loop through the dataframe and add the number of deaths to the totals dictionary for each neighborhood\n",
    "for x in range(len(death)):\n",
    "    if death.iloc[x,0].__contains__(\"Controlled\"):\n",
    "        if death.iloc[x,1] in totals:\n",
    "                totals[death.iloc[x,1]] += 1\n",
    "        else:\n",
    "                totals[death.iloc[x,1]] = 1\n"
   ]
  },
  {
   "cell_type": "code",
   "execution_count": 4,
   "metadata": {},
   "outputs": [],
   "source": [
    "##Splitting the dataframe into two lists that give the number of drug possesions and \n",
    "possesions = list(totals.values())\n",
    "locations = list(totals.keys())\n",
    "\n",
    "##Zipping the two lists together to make a list of tuples that will be used to populate a new dataframe\n",
    "dframe = pd.DataFrame(list(zip(locations, possesions)), columns=[\"Location\",\"Drug Possesions\"])\n",
    "\n",
    "##Sorting the dataframe by the number of drug possesions in decending order\n",
    "sortedDF = dframe.sort_values(by=['Drug Possesions'],ascending=False)\n",
    "\n",
    "##Throwing out any NaN values that may of been included on accient and converting to a csv file. \n",
    "sortedDF = sortedDF.dropna()\n",
    "sortedDF.to_csv(\"Possesions.csv\", index=False)\n"
   ]
  },
  {
   "cell_type": "code",
   "execution_count": 10,
   "metadata": {},
   "outputs": [
    {
     "data": {
      "text/html": [
       "<div>\n",
       "<style scoped>\n",
       "    .dataframe tbody tr th:only-of-type {\n",
       "        vertical-align: middle;\n",
       "    }\n",
       "\n",
       "    .dataframe tbody tr th {\n",
       "        vertical-align: top;\n",
       "    }\n",
       "\n",
       "    .dataframe thead th {\n",
       "        text-align: right;\n",
       "    }\n",
       "</style>\n",
       "<table border=\"1\" class=\"dataframe\">\n",
       "  <thead>\n",
       "    <tr style=\"text-align: right;\">\n",
       "      <th></th>\n",
       "      <th>Location</th>\n",
       "      <th>Drug Possesions</th>\n",
       "    </tr>\n",
       "  </thead>\n",
       "  <tbody>\n",
       "    <tr>\n",
       "      <th>28</th>\n",
       "      <td>Homewood South</td>\n",
       "      <td>502</td>\n",
       "    </tr>\n",
       "    <tr>\n",
       "      <th>8</th>\n",
       "      <td>Homewood North</td>\n",
       "      <td>371</td>\n",
       "    </tr>\n",
       "    <tr>\n",
       "      <th>4</th>\n",
       "      <td>East Allegheny</td>\n",
       "      <td>370</td>\n",
       "    </tr>\n",
       "    <tr>\n",
       "      <th>14</th>\n",
       "      <td>South Side Flats</td>\n",
       "      <td>353</td>\n",
       "    </tr>\n",
       "    <tr>\n",
       "      <th>38</th>\n",
       "      <td>Carrick</td>\n",
       "      <td>317</td>\n",
       "    </tr>\n",
       "    <tr>\n",
       "      <th>...</th>\n",
       "      <td>...</td>\n",
       "      <td>...</td>\n",
       "    </tr>\n",
       "    <tr>\n",
       "      <th>97</th>\n",
       "      <td>Mt. Oliver Boro</td>\n",
       "      <td>5</td>\n",
       "    </tr>\n",
       "    <tr>\n",
       "      <th>91</th>\n",
       "      <td>Swisshelm Park</td>\n",
       "      <td>4</td>\n",
       "    </tr>\n",
       "    <tr>\n",
       "      <th>79</th>\n",
       "      <td>Chartiers City</td>\n",
       "      <td>4</td>\n",
       "    </tr>\n",
       "    <tr>\n",
       "      <th>68</th>\n",
       "      <td>Mt. Oliver Neighborhood</td>\n",
       "      <td>4</td>\n",
       "    </tr>\n",
       "    <tr>\n",
       "      <th>96</th>\n",
       "      <td>East Carnegie</td>\n",
       "      <td>4</td>\n",
       "    </tr>\n",
       "  </tbody>\n",
       "</table>\n",
       "<p>98 rows × 2 columns</p>\n",
       "</div>"
      ],
      "text/plain": [
       "                   Location  Drug Possesions\n",
       "28           Homewood South              502\n",
       "8            Homewood North              371\n",
       "4            East Allegheny              370\n",
       "14         South Side Flats              353\n",
       "38                  Carrick              317\n",
       "..                      ...              ...\n",
       "97          Mt. Oliver Boro                5\n",
       "91           Swisshelm Park                4\n",
       "79           Chartiers City                4\n",
       "68  Mt. Oliver Neighborhood                4\n",
       "96            East Carnegie                4\n",
       "\n",
       "[98 rows x 2 columns]"
      ]
     },
     "metadata": {},
     "output_type": "display_data"
    }
   ],
   "source": [
    "display(sortedDF)"
   ]
  },
  {
   "cell_type": "markdown",
   "metadata": {},
   "source": [
    "<h2> What does this dataframe mean? </h2>\n",
    "\n",
    "The data above shows us that Homewood South has the most 9-1-1 calls for controlled substance possesion and East Carnegie has the least number of calls. \n",
    "\n",
    "Therefore, we can conclude that Homewood South has the most drugs and East Carnegie has the least which would make Homewood South a good location to find drugs. \n",
    "\n",
    "The location and drug possession data will be used in our final formula to calculate the best location to do drugs in Allegheny County."
   ]
  }
 ],
 "metadata": {
  "kernelspec": {
   "display_name": "Python 3.10.8 64-bit (microsoft store)",
   "language": "python",
   "name": "python3"
  },
  "language_info": {
   "codemirror_mode": {
    "name": "ipython",
    "version": 3
   },
   "file_extension": ".py",
   "mimetype": "text/x-python",
   "name": "python",
   "nbconvert_exporter": "python",
   "pygments_lexer": "ipython3",
   "version": "3.10.8"
  },
  "orig_nbformat": 4,
  "vscode": {
   "interpreter": {
    "hash": "3dce63e6a54adc42dcca76dd982b98d69b1e9d0b7e1260bf71746be2447b2fe2"
   }
  }
 },
 "nbformat": 4,
 "nbformat_minor": 2
}
