{
 "cells": [
  {
   "cell_type": "markdown",
   "metadata": {},
   "source": [
    "<h1> Household Income in PA </h1>"
   ]
  },
  {
   "cell_type": "code",
   "execution_count": 6,
   "metadata": {},
   "outputs": [],
   "source": [
    "import pandas as pd"
   ]
  },
  {
   "cell_type": "code",
   "execution_count": 7,
   "metadata": {},
   "outputs": [
    {
     "data": {
      "text/html": [
       "<div>\n",
       "<style scoped>\n",
       "    .dataframe tbody tr th:only-of-type {\n",
       "        vertical-align: middle;\n",
       "    }\n",
       "\n",
       "    .dataframe tbody tr th {\n",
       "        vertical-align: top;\n",
       "    }\n",
       "\n",
       "    .dataframe thead th {\n",
       "        text-align: right;\n",
       "    }\n",
       "</style>\n",
       "<table border=\"1\" class=\"dataframe\">\n",
       "  <thead>\n",
       "    <tr style=\"text-align: right;\">\n",
       "      <th></th>\n",
       "      <th>Neighborhood</th>\n",
       "      <th>Estimate; Total: - $200,000 or more</th>\n",
       "    </tr>\n",
       "  </thead>\n",
       "  <tbody>\n",
       "    <tr>\n",
       "      <th>76</th>\n",
       "      <td>Squirrel Hill North</td>\n",
       "      <td>935.0</td>\n",
       "    </tr>\n",
       "    <tr>\n",
       "      <th>77</th>\n",
       "      <td>Squirrel Hill South</td>\n",
       "      <td>821.0</td>\n",
       "    </tr>\n",
       "    <tr>\n",
       "      <th>68</th>\n",
       "      <td>Shadyside</td>\n",
       "      <td>559.0</td>\n",
       "    </tr>\n",
       "    <tr>\n",
       "      <th>63</th>\n",
       "      <td>Point Breeze</td>\n",
       "      <td>482.0</td>\n",
       "    </tr>\n",
       "    <tr>\n",
       "      <th>16</th>\n",
       "      <td>Central Business District</td>\n",
       "      <td>364.0</td>\n",
       "    </tr>\n",
       "    <tr>\n",
       "      <th>...</th>\n",
       "      <td>...</td>\n",
       "      <td>...</td>\n",
       "    </tr>\n",
       "    <tr>\n",
       "      <th>43</th>\n",
       "      <td>Knoxville</td>\n",
       "      <td>0.0</td>\n",
       "    </tr>\n",
       "    <tr>\n",
       "      <th>49</th>\n",
       "      <td>Marshall-Shadeland</td>\n",
       "      <td>0.0</td>\n",
       "    </tr>\n",
       "    <tr>\n",
       "      <th>50</th>\n",
       "      <td>Middle Hill</td>\n",
       "      <td>0.0</td>\n",
       "    </tr>\n",
       "    <tr>\n",
       "      <th>55</th>\n",
       "      <td>New Homestead</td>\n",
       "      <td>0.0</td>\n",
       "    </tr>\n",
       "    <tr>\n",
       "      <th>90</th>\n",
       "      <td>Windgap</td>\n",
       "      <td>0.0</td>\n",
       "    </tr>\n",
       "  </tbody>\n",
       "</table>\n",
       "<p>91 rows × 2 columns</p>\n",
       "</div>"
      ],
      "text/plain": [
       "                 Neighborhood  Estimate; Total: - $200,000 or more\n",
       "76        Squirrel Hill North                                935.0\n",
       "77        Squirrel Hill South                                821.0\n",
       "68                  Shadyside                                559.0\n",
       "63               Point Breeze                                482.0\n",
       "16  Central Business District                                364.0\n",
       "..                        ...                                  ...\n",
       "43                  Knoxville                                  0.0\n",
       "49         Marshall-Shadeland                                  0.0\n",
       "50                Middle Hill                                  0.0\n",
       "55              New Homestead                                  0.0\n",
       "90                    Windgap                                  0.0\n",
       "\n",
       "[91 rows x 2 columns]"
      ]
     },
     "execution_count": 7,
     "metadata": {},
     "output_type": "execute_result"
    }
   ],
   "source": [
    "##Here, we are reading the data from the csv file\n",
    "income = pd.read_csv(\"income.csv\", sep=\",\")\n",
    "\n",
    "##Here, we are making a seperate dataframe that contains just the Neighborhoods and the number of high income households\n",
    "money = income[[\"Neighborhood\", \"Estimate; Total: - $200,000 or more\"]]\n",
    "\n",
    "##This throws out all of the NaN values in the dataframe and converts it to a csv file\n",
    "money = money.dropna()\n",
    "money.to_csv(\"money.csv\", index=False)\n",
    "\n",
    "money.sort_values(by=\"Estimate; Total: - $200,000 or more\", ascending=False)\n",
    "\n"
   ]
  },
  {
   "cell_type": "markdown",
   "metadata": {},
   "source": [
    "<h2> What does this mean? </h2>\n",
    "\n",
    "The data above shows us that Squirrel Hill North has the most households in Allegheny County, PA that have a high income. \n",
    "\n",
    "The data also shows us that Windgap, New Homestead, and Middle Hill have the lowest amount of households in Allegheny County that have a high income.\n",
    "\n",
    "We can conclude that Squirrel Hill North is the neighborhood that would have the most disposable income to spend on drugs. \n",
    "\n",
    "The location and income data will be used in our final formula to calculate the best location to do drugs in Allegheny County."
   ]
  }
 ],
 "metadata": {
  "kernelspec": {
   "display_name": "Python 3.10.8 64-bit (microsoft store)",
   "language": "python",
   "name": "python3"
  },
  "language_info": {
   "codemirror_mode": {
    "name": "ipython",
    "version": 3
   },
   "file_extension": ".py",
   "mimetype": "text/x-python",
   "name": "python",
   "nbconvert_exporter": "python",
   "pygments_lexer": "ipython3",
   "version": "3.10.8"
  },
  "orig_nbformat": 4,
  "vscode": {
   "interpreter": {
    "hash": "3dce63e6a54adc42dcca76dd982b98d69b1e9d0b7e1260bf71746be2447b2fe2"
   }
  }
 },
 "nbformat": 4,
 "nbformat_minor": 2
}
