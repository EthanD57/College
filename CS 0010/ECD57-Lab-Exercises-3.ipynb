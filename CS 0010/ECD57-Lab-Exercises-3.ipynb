{
 "cells": [
  {
   "cell_type": "markdown",
   "metadata": {},
   "source": [
    "# Lab Exercises\n",
    "\n",
    "## Introduction to Python, Part 2\n",
    "\n",
    "### Questions/Office Hours\n",
    "\n",
    "If you have questions about this week's lab **ANY** TA for this class can help you with any problems in office hours. That being said, if you need help over email it is best to email **YOUR** TA.\n",
    "\n",
    "You can also always ask the instructor for help with skills labs (even though they are not covered in lecture). You can email the instructor of come to his office hours."
   ]
  },
  {
   "cell_type": "markdown",
   "metadata": {},
   "source": [
    "----"
   ]
  },
  {
   "cell_type": "markdown",
   "metadata": {},
   "source": [
    "## Exercises\n",
    "\n",
    "As with last week, these exercises are short and primarily drawn from your reading for this week, chapters 4, 5, and 6 of *Python for Everyone*. For your reference:\n",
    "\n",
    "* [Chapter 4: Functions](https://www.py4e.com/html3/04-functions)\n",
    "* [Chapter 5: Iterations](https://www.py4e.com/html3/05-iterations)\n",
    "* [Chapter 6: Strings](https://www.py4e.com/html3/06-strings)\n",
    "\n",
    "Before you begin, a reminder to use [Read-Search-Ask](https://medium.freecodecamp.org/read-search-dont-be-afraid-to-ask-743a23c411b4) if you get stuck. *Bonne chance!*\n",
    "\n",
    "![](https://media.giphy.com/media/SmFXBM4HuN344/giphy.gif)"
   ]
  },
  {
   "cell_type": "markdown",
   "metadata": {},
   "source": [
    "----"
   ]
  },
  {
   "cell_type": "markdown",
   "metadata": {},
   "source": [
    "#### **Exercise 1**\n",
    "\n",
    "###### sections to reference: [4.6](https://www.py4e.com/html3/04-functions#adding-new-functions)\n",
    "\n",
    "Tell me, in your own words, what the `def` keyword does. You don't need to write an essay, just a sentence or two will do."
   ]
  },
  {
   "cell_type": "markdown",
   "metadata": {},
   "source": [
    "The `def` keyword is used to declare a function. When put before a function's name, it tells the compiler that any code indented underneath the name is part of the function and should be called when the function is called."
   ]
  },
  {
   "cell_type": "markdown",
   "metadata": {},
   "source": [
    "#### **Exercise 2**\n",
    "\n",
    "###### sections to reference: [4.1](https://www.py4e.com/html3/04-functions#function-calls), last week's lab\n",
    "\n",
    "What Python **function calls** have you used beforein this class? Make a Markdown list of them, and for each one, list the function *name*, the *argument* (or arguments) of the function, and what the *result* is.\n",
    "\n",
    "Now, go to [this Python documentation page](https://docs.python.org/3/library/functions.html). Pick one of the functions in the table at the top, and **tell me** the function name, argument or arguments, and what its result is. You can jump to a description of the function by clicking on it in the table."
   ]
  },
  {
   "cell_type": "markdown",
   "metadata": {},
   "source": [
    "* input(), a string that acts as a prompt (or nothing), it waits for the user to input something into the console and then stores it in a variable that you tell it to. \n",
    "\n",
    "* int(), a string (that contains a number) or a float, converts it to an int data type. \n",
    "\n",
    "* float(), a string (that contains a number) or an integer, converts it to a float data type. \n",
    "\n",
    "* str(), an int or float, converts it to a string data type.\n",
    "\n",
    "* print(), a string or variable, prints the input to the screen. \n",
    "\n",
    "* type(), a variable, tells what data type the variable is\n",
    "\n",
    "abs() is a function built into python that will tell you the absolute value of any number that is input into the function. "
   ]
  },
  {
   "cell_type": "markdown",
   "metadata": {},
   "source": [
    "#### **Exercise 3**\n",
    "\n",
    "###### sections to reference: [4.7](https://www.py4e.com/html3/04-functions#definitions-and-uses), [4.8](https://www.py4e.com/html3/04-functions#flow-of-execution)\n",
    "\n",
    "Look at the code block below. Write down your prediction for what it's going to print out. Then, run it! Was your prediction correct? Tell me yes or no, and if no, tell me why not."
   ]
  },
  {
   "cell_type": "code",
   "execution_count": null,
   "metadata": {},
   "outputs": [],
   "source": [
    "def apples():\n",
    "    print(\"Foo\")\n",
    "\n",
    "def bananas():\n",
    "    print(\"Bar\")\n",
    "\n",
    "def pineapples():\n",
    "    apples()\n",
    "    bananas()\n",
    "\n",
    "apples()\n",
    "bananas()\n",
    "apples()\n",
    "pineapples()"
   ]
  },
  {
   "cell_type": "markdown",
   "metadata": {},
   "source": [
    "I predict that the output will be:\n",
    "\n",
    "<br> Foo\n",
    "<br> Bar\n",
    "<br> Foo\n",
    "<br> Foo\n",
    "<br> Bar\n",
    "\n",
    "I was right."
   ]
  },
  {
   "cell_type": "markdown",
   "metadata": {},
   "source": [
    "#### **Exercise 4**\n",
    "\n",
    "###### sections to reference: [4.4](https://www.py4e.com/html3/04-functions#math-functions), [4.5](https://www.py4e.com/html3/04-functions#random-numbers)\n",
    "\n",
    "You're going to write a program that gives a user a certain number of random integers between a specified upper and lower bound. So, you need to **ask the user** for three things: \n",
    "\n",
    "1. how many integers they want\n",
    "2. the lower bound (the number that all of your random integers should be *bigger than*), and\n",
    "3. the upper bound (the number that all of your random integers should be *smaller than*)\n",
    "\n",
    "After you ask the user for those things, you want to **generate integers** between those bounds, so each of your integers should fit the following formula:\n",
    "\n",
    "$$lower\\_bound \\leq your\\_integer \\leq upper\\_bound$$\n",
    "\n",
    "You don't have to worry about duplicates or anything, so the best way to do it is to **print each integer** as you generate it. \n",
    "\n",
    "**HINT:** You generate random integers with the `random.randint()` function, so what package do you have to *import* to use that function?"
   ]
  },
  {
   "cell_type": "code",
   "execution_count": 13,
   "metadata": {},
   "outputs": [
    {
     "name": "stdin",
     "output_type": "stream",
     "text": [
      "How many integers do you want? 10\n",
      "What is your lower bound? 1\n",
      "What is your uppper bound? 3\n"
     ]
    },
    {
     "name": "stdout",
     "output_type": "stream",
     "text": [
      "3\n",
      "3\n",
      "1\n",
      "1\n",
      "1\n",
      "2\n",
      "2\n",
      "1\n",
      "3\n",
      "1\n"
     ]
    }
   ],
   "source": [
    "import random\n",
    "q1 = int(input(\"How many integers do you want?\"))\n",
    "q2 = int(input(\"What is your lower bound?\"))\n",
    "q3 = int(input(\"What is your uppper bound?\"))\n",
    "\n",
    "for x in range(q1):\n",
    "    y = random.randint(q2,q3)\n",
    "    print(y)"
   ]
  },
  {
   "cell_type": "markdown",
   "metadata": {},
   "source": [
    "#### **Exercise 5**\n",
    "\n",
    "###### sections to reference: [5.5](https://www.py4e.com/html3/05-iterations#definite-loops-using-for)\n",
    "\n",
    "Write a program that wishes a happy fall to a list of your friends. Declare a list of names, and add as many names as you want. Then, using a for loop, print out the message \"Happy fall,\" and each name on the list. "
   ]
  },
  {
   "cell_type": "code",
   "execution_count": 28,
   "metadata": {},
   "outputs": [
    {
     "name": "stdin",
     "output_type": "stream",
     "text": [
      "Please name a friend, or type \"No\" to stop listing Cameron\n",
      "Please name a friend, or type \"No\" to stop listing Alex\n",
      "Please name a friend, or type \"No\" to stop listing Trent\n",
      "Please name a friend, or type \"No\" to stop listing Greyson\n",
      "Please name a friend, or type \"No\" to stop listing Jonah\n",
      "Please name a friend, or type \"No\" to stop listing Owen\n",
      "Please name a friend, or type \"No\" to stop listing Shonzo\n",
      "Please name a friend, or type \"No\" to stop listing Shawn\n",
      "Please name a friend, or type \"No\" to stop listing No\n"
     ]
    },
    {
     "name": "stdout",
     "output_type": "stream",
     "text": [
      "Happy fall, Cameron\n",
      "Happy fall, Alex\n",
      "Happy fall, Trent\n",
      "Happy fall, Greyson\n",
      "Happy fall, Jonah\n",
      "Happy fall, Owen\n",
      "Happy fall, Shonzo\n",
      "Happy fall, Shawn\n"
     ]
    }
   ],
   "source": [
    "friends_list=[]\n",
    "\n",
    "x = True\n",
    "\n",
    "while x == True:\n",
    "    friend = input('Please name a friend, or type \"No\" to stop listing')\n",
    "    if friend == \"No\":\n",
    "        x = False\n",
    "    else:\n",
    "        friends_list.append(friend)\n",
    "        \n",
    "for i in range(0, len(friends_list)):\n",
    "    print(\"Happy fall,\",friends_list[i])\n",
    "    \n",
    "#In hindsight, I did this wrong, but I'm pretty sure you won't mind since I did more than was asked"
   ]
  },
  {
   "cell_type": "markdown",
   "metadata": {},
   "source": [
    "#### **Exercise 6**\n",
    "\n",
    "###### sections to reference: [5.3](https://www.py4e.com/html3/05-iterations#infinite-loops), [5.7](https://www.py4e.com/html3/05-iterations#counting-and-summing-loops)\n",
    "\n",
    "Write a program that **lets the user enter** as many integers as they want. When any input that's not an integer is entered, the user is done entering integers. After they're done, print out the **average** of all the integers entered.\n",
    "\n",
    "Be sure to test this with a wide range of numbers, to make sure it's doing what you want it to."
   ]
  },
  {
   "cell_type": "code",
   "execution_count": 41,
   "metadata": {},
   "outputs": [
    {
     "name": "stdin",
     "output_type": "stream",
     "text": [
      "Please enter an integer, or enter a space when you are done 1\n",
      "Please enter an integer, or enter a space when you are done 2\n",
      "Please enter an integer, or enter a space when you are done 3\n",
      "Please enter an integer, or enter a space when you are done 4\n",
      "Please enter an integer, or enter a space when you are done 5\n",
      "Please enter an integer, or enter a space when you are done 6\n",
      "Please enter an integer, or enter a space when you are done  \n"
     ]
    },
    {
     "name": "stdout",
     "output_type": "stream",
     "text": [
      "3.5\n"
     ]
    }
   ],
   "source": [
    "nums=[]\n",
    "\n",
    "x = True\n",
    "\n",
    "while x == True:\n",
    "    number = (input('Please enter an integer, or enter a space when you are done'))\n",
    "    if number == \" \":\n",
    "        x = False\n",
    "    else:\n",
    "        nums.append(int(number))\n",
    "\n",
    "total=int()\n",
    "\n",
    "for i in range(0, len(nums)):\n",
    "    total += nums[i]\n",
    "\n",
    "total/=(len(nums))\n",
    "\n",
    "print(total)"
   ]
  },
  {
   "cell_type": "markdown",
   "metadata": {},
   "source": [
    "#### **Exercise 7**\n",
    "\n",
    "###### sections to reference: [6.3](https://www.py4e.com/html3/06-strings#traversal-through-a-string-with-a-loop), [6.6](https://www.py4e.com/html3/06-strings#looping-and-counting)\n",
    "\n",
    "Write a program that lets a user **enter a string**, and have your program **how many** vowels and consonants are in the word. ('Y' is always a vowel.)\n",
    "\n",
    "Don't worry about making this run infinitely, you don't have to process more than one word per run of the program. Also, you're going to want to convert the string to all lower-case before you do any comparisons to it. \n",
    "\n",
    "Finally, once you have the number of vowels, you don't have to loop through the word *again* to test for consonants. How can you find the number of consonants in a word with just the number of vowels?"
   ]
  },
  {
   "cell_type": "code",
   "execution_count": 50,
   "metadata": {},
   "outputs": [
    {
     "name": "stdin",
     "output_type": "stream",
     "text": [
      "Please input a word bruh\n"
     ]
    },
    {
     "name": "stdout",
     "output_type": "stream",
     "text": [
      "You have 1 vowels and 3 consonants.\n"
     ]
    }
   ],
   "source": [
    "#word = input(\"Please input a word\")\n",
    "#vowel_list = \"AaEeIiOoUuYy\"\n",
    "\n",
    "#vowels = [each for each in word if each in vowel_list]\n",
    "\n",
    "#numVowels = len(vowels)\n",
    "#print(\"There are: \", numVowels, \"vowels\")\n",
    "#print(\"There are: \", (len(word)-numVowels), \"consonants\")\n",
    "\n",
    "#^Saving this for later\n",
    "numVow = int()\n",
    "word = input(\"Please input a word\")\n",
    "word.lower()\n",
    "for x in word:\n",
    "    if x == \"a\" or  x == \"e\" or  x == \"i\" or  x == \"o\" or x == \"u\" or  x == \"y\":\n",
    "        numVow +=1\n",
    "print(\"You have\", numVow, \"vowels and\", (len(word)-numVow), \"consonants.\")"
   ]
  },
  {
   "cell_type": "markdown",
   "metadata": {},
   "source": [
    "#### **Exercise 8**\n",
    "\n",
    "###### sections to reference: [6.9](https://www.py4e.com/html3/06-strings#string-methods), Python docs\n",
    "\n",
    "Take a moment and read through the standard string methods that Python provides [here](https://docs.python.org/library/stdtypes.html#string-methods). You should try to keep those methods and what they can do in the back of your mind, as they can come in very handy.\n",
    "\n",
    "Your programming exercise is very open-ended: **write a program** that uses at least three of those string methods. You don't have to take any user input, although you could if you wanted. You don't have to define any functions, although you probably should if your program is doing a lot of different things. \n",
    "\n",
    "The only thing that is required, besides the string methods, is to **comment your code**. Use the `#` character at the end of a line of code, and describe what's going on. That's how you'll be graded on this assignment: how well your comments match up with what your code actually does.\n",
    "\n",
    "Have fun!"
   ]
  },
  {
   "cell_type": "code",
   "execution_count": 57,
   "metadata": {},
   "outputs": [
    {
     "name": "stdout",
     "output_type": "stream",
     "text": [
      "This is a string.\n",
      "tHIS IS A STRING. This is the og string if it had all of its cases swapped!\n",
      "This is a Pitt. This is the og string if it had the word \"string\" replaced with the word \"apples\"\n",
      "This Is A String. This is the og string if it was the title of a book!\n"
     ]
    }
   ],
   "source": [
    "string= \"This is a string.\"\n",
    "print(string)\n",
    "print(string.swapcase(), \"This is the og string if it had all of its cases swapped!\")\n",
    "print(string.replace(\"string\", \"Pitt\"), 'This is the og string if it had the word \"string\" replaced with the word \"apples\"' )\n",
    "print(string.title(), \"This is the og string if it was the title of a book!\")\n",
    "\n",
    "#The first line of code just declares a variable titled \"String\" holding the string \"This is a string.\"\n",
    "#The second line of code just prints out the variable string\n",
    "#The third line swaps the cases of all the characters in the String string. All uppercases become lowercases and visa versa\n",
    "#The fourth line finds all instances of the word \"string\" inside the string and replaces it with the word \"Pitt\"\n",
    "#The final line capitalizes all words in the string"
   ]
  },
  {
   "cell_type": "markdown",
   "metadata": {},
   "source": [
    "#### **Exercise 9**\n",
    "\n",
    "###### sections to reference: [6.4](https://www.py4e.com/html3/06-strings#string-slices), [6.10](https://www.py4e.com/html3/06-strings#parsing-strings)\n",
    "![jeff](https://media.giphy.com/media/ZLEdByf49a2XK/giphy.gif)\n",
    "\n",
    "Below, I've given you a string from a spam filter. Using string methods, get rid of everything before the colon and the spacing until you have just the number. Then, convert the number into a float, and convert it into a percentage. Print out the percentage"
   ]
  },
  {
   "cell_type": "code",
   "execution_count": 62,
   "metadata": {},
   "outputs": [
    {
     "name": "stdout",
     "output_type": "stream",
     "text": [
      "84.75 %\n"
     ]
    }
   ],
   "source": [
    "spam_string = 'X-DSPAM-Confidence: 0.8475 '\n",
    "\n",
    "start = spam_string.find(\":\") + 2\n",
    "\n",
    "final = float(spam_string[start:len(spam_string)]) * 100\n",
    "\n",
    "print(final,\"%\")\n",
    "# your code goes here"
   ]
  }
 ],
 "metadata": {
  "kernelspec": {
   "display_name": "Python 3",
   "language": "python",
   "name": "python3"
  },
  "language_info": {
   "codemirror_mode": {
    "name": "ipython",
    "version": 3
   },
   "file_extension": ".py",
   "mimetype": "text/x-python",
   "name": "python",
   "nbconvert_exporter": "python",
   "pygments_lexer": "ipython3",
   "version": "3.8.3"
  },
  "vscode": {
   "interpreter": {
    "hash": "75e4a6a75c2bafdb358241a31c28830e81db8b6e5287e59fc181d3e0eb9324ab"
   }
  }
 },
 "nbformat": 4,
 "nbformat_minor": 4
}
