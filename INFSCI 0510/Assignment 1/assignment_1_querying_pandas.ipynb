{
 "cells": [
  {
   "cell_type": "code",
   "execution_count": 9,
   "metadata": {},
   "outputs": [],
   "source": [
    "import pandas as pd \n",
    "import numpy as np\n",
    "\n",
    "deaths = pd.read_csv('Multiple Cause of Death, 1999-2014.csv')\n",
    "\n",
    "#Rename the columns to replace spaces with underscores\n",
    "for each in deaths.columns:\n",
    "    deaths = deaths.rename(columns={each: each.replace(\" \", \"_\")})\n"
   ]
  },
  {
   "cell_type": "code",
   "execution_count": 10,
   "metadata": {},
   "outputs": [],
   "source": [
    "#Clean the data and convert to nums\n",
    "for index, each in deaths.iterrows():\n",
    "    if each[\"Deaths\"] == \"Suppressed\" or each [\"Crude_Rate\"] == \"Unreliable\":\n",
    "        deaths = deaths.drop(index)\n",
    "\n",
    "deaths[\"Deaths\"] = pd.to_numeric(deaths[\"Deaths\"], errors = 'raise')\n",
    "deaths[\"Crude_Rate\"] = pd.to_numeric(deaths[\"Crude_Rate\"], errors = 'raise')\n"
   ]
  },
  {
   "cell_type": "code",
   "execution_count": 11,
   "metadata": {},
   "outputs": [
    {
     "name": "stdout",
     "output_type": "stream",
     "text": [
      "     State  Year\n",
      "California  2009\n",
      "California  2010\n",
      "California  2011\n",
      "California  2013\n",
      "California  2014\n",
      "      Ohio  2014\n",
      "\n"
     ]
    }
   ],
   "source": [
    "#Find all states and years where deaths were greater than 2000\n",
    "states = deaths[deaths[\"Deaths\"] > 2000][\"State\"] \n",
    "year = deaths[deaths[\"Deaths\"] > 2000][\"Year\"]\n",
    "deathsOver2000 = pd.concat([states, year], axis = 1)\n",
    "print(deathsOver2000.to_string(index = False) + \"\\n\") #ONLY show the State and Year columns"
   ]
  },
  {
   "cell_type": "code",
   "execution_count": 12,
   "metadata": {},
   "outputs": [
    {
     "name": "stdout",
     "output_type": "stream",
     "text": [
      "               State  Total\n",
      "             Alabama   2173\n",
      "              Alaska    644\n",
      "             Arizona   7298\n",
      "            Arkansas   2178\n",
      "          California  27044\n",
      "            Colorado   5155\n",
      "         Connecticut   3755\n",
      "            Delaware   1091\n",
      "District of Columbia    693\n",
      "             Florida  19919\n",
      "             Georgia   6052\n",
      "              Hawaii    955\n",
      "               Idaho    971\n",
      "            Illinois  13072\n",
      "             Indiana   3758\n",
      "                Iowa   1642\n",
      "              Kansas   1794\n",
      "            Kentucky   6283\n",
      "           Louisiana   2419\n",
      "               Maine   1589\n",
      "            Maryland   9403\n",
      "       Massachusetts   9923\n",
      "            Michigan   8748\n",
      "           Minnesota   3158\n",
      "         Mississippi   1048\n",
      "            Missouri   6460\n",
      "             Montana    752\n",
      "            Nebraska    576\n",
      "              Nevada   5954\n",
      "       New Hampshire   1859\n",
      "          New Jersey   6961\n",
      "          New Mexico   4002\n",
      "            New York  16156\n",
      "      North Carolina  10413\n",
      "        North Dakota     66\n",
      "                Ohio  13623\n",
      "            Oklahoma   5926\n",
      "              Oregon   4933\n",
      "        Pennsylvania   9304\n",
      "        Rhode Island   1847\n",
      "      South Carolina   3165\n",
      "        South Dakota    316\n",
      "           Tennessee   7467\n",
      "               Texas  15050\n",
      "                Utah   5165\n",
      "             Vermont    768\n",
      "            Virginia   7210\n",
      "          Washington   9528\n",
      "       West Virginia   4982\n",
      "           Wisconsin   5400\n",
      "             Wyoming    359\n",
      "\n"
     ]
    }
   ],
   "source": [
    "#Find total number of deaths for each state\n",
    "totalDeaths = deaths.groupby(\"State\")[\"Deaths\"].sum().reset_index(name=\"Total\")\n",
    "print(totalDeaths.to_string(index = False) + \"\\n\") "
   ]
  },
  {
   "cell_type": "code",
   "execution_count": 13,
   "metadata": {},
   "outputs": [
    {
     "name": "stdout",
     "output_type": "stream",
     "text": [
      "   State  Year  Deaths  Population  Crude_Rate Crude_Rate_Lower_95%_Confidence_Interval Crude_Rate_Upper_95%_Confidence_Interval\n",
      " Alabama  1999      39     4430141         0.9                                      0.6                                      1.2\n",
      " Alabama  2000      46     4447100         1.0                                      0.8                                      1.4\n",
      " Alabama  2001      67     4467634         1.5                                      1.2                                      1.9\n",
      " Alabama  2002      75     4480089         1.7                                      1.3                                      2.1\n",
      " Alabama  2003      54     4503491         1.2                                      0.9                                      1.6\n",
      " Alabama  2004      92     4530729         2.0                                      1.6                                      2.5\n",
      " Alabama  2005      83     4569805         1.8                                      1.4                                      2.3\n",
      " Alabama  2006     134     4628981         2.9                                      2.4                                      3.4\n",
      " Alabama  2007     172     4672840         3.7                                      3.1                                      4.2\n",
      " Alabama  2008     195     4718206         4.1                                      3.6                                      4.7\n",
      " Alabama  2009     210     4757938         4.4                                      3.8                                        5\n",
      " Alabama  2010     194     4779736         4.1                                      3.5                                      4.6\n",
      " Alabama  2011     180     4802740         3.7                                      3.2                                      4.3\n",
      " Alabama  2012     175     4822023         3.6                                      3.1                                      4.2\n",
      " Alabama  2013     175     4833722         3.6                                      3.1                                      4.2\n",
      " Alabama  2014     282     4849377         5.8                                      5.1                                      6.5\n",
      "  Alaska  1999      28      624779         4.5                                        3                                      6.5\n",
      "  Alaska  2000      27      626932         4.3                                      2.8                                      6.3\n",
      "  Alaska  2006      29      675302         4.3                                      2.9                                      6.2\n",
      "  Alaska  2008      94      687455        13.7                                       11                                     16.7\n",
      "  Alaska  2009      94      698895        13.4                                     10.9                                     16.5\n",
      "  Alaska  2010      71      710231        10.0                                      7.8                                     12.6\n",
      "  Alaska  2011      72      722718        10.0                                      7.8                                     12.5\n",
      "  Alaska  2012      81      731449        11.1                                      8.8                                     13.8\n",
      "  Alaska  2013      69      735132         9.4                                      7.3                                     11.9\n",
      "  Alaska  2014      79      736732        10.7                                      8.5                                     13.4\n",
      " Arizona  1999     250     5023823         5.0                                      4.4                                      5.6\n",
      " Arizona  2000     249     5130632         4.9                                      4.3                                      5.5\n",
      " Arizona  2001     275     5273477         5.2                                      4.6                                      5.8\n",
      " Arizona  2002     340     5396255         6.3                                      5.6                                        7\n",
      " Arizona  2003     350     5510364         6.4                                      5.7                                        7\n",
      " Arizona  2004     360     5652404         6.4                                      5.7                                        7\n",
      " Arizona  2005     393     5839077         6.7                                      6.1                                      7.4\n",
      " Arizona  2006     479     6029141         7.9                                      7.2                                      8.7\n",
      " Arizona  2007     490     6167681         7.9                                      7.2                                      8.6\n",
      " Arizona  2008     515     6280362         8.2                                      7.5                                      8.9\n",
      " Arizona  2009     625     6343154         9.9                                      9.1                                     10.6\n",
      " Arizona  2010     650     6392017        10.2                                      9.4                                       11\n",
      " Arizona  2011     596     6482505         9.2                                      8.5                                      9.9\n",
      " Arizona  2012     565     6553255         8.6                                      7.9                                      9.3\n",
      " Arizona  2013     545     6626624         8.2                                      7.5                                      8.9\n",
      " Arizona  2014     616     6731484         9.2                                      8.4                                      9.9\n",
      "Arkansas  1999      29     2651860         1.1                                      0.7                                      1.6\n",
      "Arkansas  2000      20     2673400         0.7                                      0.5                                      1.2\n",
      "Arkansas  2001      30     2691571         1.1                                      0.8                                      1.6\n",
      "Arkansas  2002      96     2705927         3.5                                      2.9                                      4.3\n",
      "Arkansas  2003      98     2724816         3.6                                      2.9                                      4.4\n",
      "Arkansas  2004     133     2749686         4.8                                        4                                      5.7\n",
      "Arkansas  2005     127     2781097         4.6                                      3.8                                      5.4\n",
      "Arkansas  2006     149     2821761         5.3                                      4.4                                      6.1\n",
      "Arkansas  2007     156     2848650         5.5                                      4.6                                      6.3\n",
      "Arkansas  2008     210     2874554         7.3                                      6.3                                      8.3\n",
      "Arkansas  2009     221     2896843         7.6                                      6.6                                      8.6\n",
      "Arkansas  2010     198     2915918         6.8                                      5.8                                      7.7\n",
      "Arkansas  2011     176     2937979         6.0                                      5.1                                      6.9\n",
      "Arkansas  2012     181     2949131         6.1                                      5.2                                        7\n",
      "Arkansas  2013     175     2959373         5.9                                        5                                      6.8\n",
      "Arkansas  2014     179     2966369         6.0                                      5.2                                      6.9\n",
      "\n"
     ]
    }
   ],
   "source": [
    "#All states that start with the letter A\n",
    "aStates = deaths[deaths[\"State\"].str.startswith(\"A\")] \n",
    "print(aStates.to_string(index = False) + \"\\n\") "
   ]
  },
  {
   "cell_type": "code",
   "execution_count": 14,
   "metadata": {},
   "outputs": [
    {
     "name": "stdout",
     "output_type": "stream",
     "text": [
      "California\n",
      "     Texas\n",
      "   Florida\n",
      "  New York\n",
      "  Illinois\n",
      "\n"
     ]
    }
   ],
   "source": [
    "def getTopFivePopulatedStates(dataframe: pd.DataFrame, year: int):\n",
    "    topFive = dataframe[dataframe[\"Year\"] == year].nlargest(5, \"Population\")\n",
    "    return topFive\n",
    "\n",
    "##This can accept any year in the CSV and will return the top 5 states with the highest population\n",
    "topFive = getTopFivePopulatedStates(deaths, 2014)\n",
    "print(topFive[\"State\"].to_string(index = False) + \"\\n\") "
   ]
  },
  {
   "cell_type": "code",
   "execution_count": 18,
   "metadata": {},
   "outputs": [
    {
     "name": "stdout",
     "output_type": "stream",
     "text": [
      " Year  Deaths\n",
      " 2014    2159\n",
      " 2009    2128\n",
      " 2013    2088\n",
      " 2010    2059\n",
      " 2011    2057\n",
      "\n"
     ]
    }
   ],
   "source": [
    "topState = topFive[\"State\"].iloc[0]\n",
    "topFromtopState = deaths[deaths[\"State\"] == topState].nlargest(5, \"Deaths\")\n",
    "print(topFromtopState[[\"Year\", \"Deaths\"]].to_string(index=False) + \"\\n\")"
   ]
  },
  {
   "cell_type": "markdown",
   "metadata": {},
   "source": [
    "### Do the deaths in New York after 9/11 increase immediately after due to health effects?\n",
    "Compared to the 3 years before the riots"
   ]
  },
  {
   "cell_type": "code",
   "execution_count": 32,
   "metadata": {},
   "outputs": [
    {
     "name": "stdout",
     "output_type": "stream",
     "text": [
      "Two Years Before 9/11: 592.5\n",
      "Two Years After 9/11: 600.0\n"
     ]
    }
   ],
   "source": [
    "twoYearsBefore = deaths[(deaths[\"Year\"] >= 1999) & (deaths[\"Year\"] < 2001) & (deaths[\"State\"] == \"New York\")]\n",
    "twoYearsAfter = deaths[(deaths[\"Year\"] > 2001) & (deaths[\"Year\"] <= 2003) & (deaths[\"State\"] == \"New York\")]\n",
    "\n",
    "print(\"Two Years Before 9/11:\", twoYearsBefore[\"Deaths\"].mean())\n",
    "print(\"Two Years After 9/11:\", twoYearsAfter[\"Deaths\"].mean())\n"
   ]
  },
  {
   "cell_type": "markdown",
   "metadata": {},
   "source": [
    "Conclusion: It looks like there was not a noticable increase to deaths due to 9/11 health effects within this time period. "
   ]
  }
 ],
 "metadata": {
  "kernelspec": {
   "display_name": "Python 3",
   "language": "python",
   "name": "python3"
  },
  "language_info": {
   "codemirror_mode": {
    "name": "ipython",
    "version": 3
   },
   "file_extension": ".py",
   "mimetype": "text/x-python",
   "name": "python",
   "nbconvert_exporter": "python",
   "pygments_lexer": "ipython3",
   "version": "3.12.6"
  }
 },
 "nbformat": 4,
 "nbformat_minor": 2
}
